{
  "nbformat": 4,
  "nbformat_minor": 0,
  "metadata": {
    "colab": {
      "name": "1주차과제.ipynb",
      "provenance": [],
      "collapsed_sections": [],
      "authorship_tag": "ABX9TyNgQf5rUi11THKmYWggNxg7",
      "include_colab_link": true
    },
    "kernelspec": {
      "name": "python3",
      "display_name": "Python 3"
    }
  },
  "cells": [
    {
      "cell_type": "markdown",
      "metadata": {
        "id": "view-in-github",
        "colab_type": "text"
      },
      "source": [
        "<a href=\"https://colab.research.google.com/github/From19toLife/AIschool/blob/master/1%EC%A3%BC%EC%B0%A8%EA%B3%BC%EC%A0%9C.ipynb\" target=\"_parent\"><img src=\"https://colab.research.google.com/assets/colab-badge.svg\" alt=\"Open In Colab\"/></a>"
      ]
    },
    {
      "cell_type": "markdown",
      "metadata": {
        "id": "dmBqQmrMzXKp",
        "colab_type": "text"
      },
      "source": [
        "# 인공지능 각 분야별 기술\n",
        "## 이미지\n",
        "**vivino**\n",
        "\n",
        "이 어플은 와인 라벨을 찍으면 가격, 평점, 어울리는 안주 등 다양한 정보를 알려준다.\n",
        "## 음성\n",
        "__시리__\n",
        "\n",
        "이 서비스의 선두주자인 애플이 음성인식 기술을 사용한 인공지능비서 시리(siri)를 출시했다.\n",
        "## 자율주행\n",
        "__SCC-ML__\n",
        "\n",
        "현대기아차에서 운전자의 주행성향에 맞는 부분 자율주행기술인 SCC-ML을 개발했다.\n",
        "이 기술은 자율주행레벨 2.5수준을 구현한다.\n",
        "## 언어\n",
        "**파파고**\n",
        "\n",
        "네이버에서 NMT기술을 사용한 파파고를 개발하였다. NMT(Neural Machine Translation)은 입력문장의 일부가 아니라 문장 전체 정보를 바탕으로 번역을 수행하기 때문에 기존 SMT(Statistical Machine translatino)의 번역보다 정확한 문장 맥락에 맞는 번역을 할 수 있다."
      ]
    }
  ]
}